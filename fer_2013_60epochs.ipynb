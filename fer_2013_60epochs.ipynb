{
  "nbformat": 4,
  "nbformat_minor": 0,
  "metadata": {
    "colab": {
      "provenance": [],
      "private_outputs": true,
      "include_colab_link": true
    },
    "kernelspec": {
      "name": "python3",
      "display_name": "Python 3"
    },
    "language_info": {
      "name": "python"
    },
    "gpuClass": "standard"
  },
  "cells": [
    {
      "cell_type": "markdown",
      "metadata": {
        "id": "view-in-github",
        "colab_type": "text"
      },
      "source": [
        "<a href=\"https://colab.research.google.com/github/ucaokylong/facial_expression_with_fer2013_data/blob/main/fer_2013_60epochs.ipynb\" target=\"_parent\"><img src=\"https://colab.research.google.com/assets/colab-badge.svg\" alt=\"Open In Colab\"/></a>"
      ]
    },
    {
      "cell_type": "code",
      "execution_count": null,
      "metadata": {
        "id": "2yJt455w5xai"
      },
      "outputs": [],
      "source": [
        "from google.colab import drive\n",
        "\n",
        "drive.mount('/content/drive')\n",
        "!cp /path/to/dataset/on/your/drive"
      ]
    },
    {
      "cell_type": "code",
      "source": [
        "!unzip /content/drive/MyDrive/AI/fer_2013.zip"
      ],
      "metadata": {
        "id": "ICtFND9S54ut"
      },
      "execution_count": null,
      "outputs": []
    },
    {
      "cell_type": "code",
      "source": [
        "import tensorflow as tf\n",
        "import matplotlib.pyplot as plt\n",
        "import os"
      ],
      "metadata": {
        "id": "Wpfnvv4U54xk"
      },
      "execution_count": null,
      "outputs": []
    },
    {
      "cell_type": "code",
      "source": [
        "fer2013_path = './fer_2013' # Đường dẫn đến folder dataset\n",
        "train_fer2013_path = os.path.join(fer2013_path, 'train') # Đường dẫn đến folder dataset train\n",
        "val_fer2013_path = os.path.join(fer2013_path, 'val') # Đường dẫn đến folder dataset val\n",
        "\n",
        "BATCH_SIZE = 32\n",
        "IMG_HEIGHT = 197\n",
        "IMG_WIDTH = 197\n",
        "RANDOM_SEED = 1\n",
        "\n",
        "train_ds = tf.keras.utils.image_dataset_from_directory(\n",
        "    train_fer2013_path, # Đường dẫn đến bộ train\n",
        "    seed=RANDOM_SEED, # Cài đặt random seed cho việc shuffle và các phép transform (nếu có)\n",
        "    image_size=(IMG_HEIGHT, IMG_WIDTH), # Cài đặt kích thước ảnh\n",
        "    shuffle=True, # Bật chế độ shuffle dataset\n",
        "    batch_size=BATCH_SIZE, # Cài đặt batch size\n",
        "    color_mode='grayscale' # Đọc ảnh theo định dạng ảnh mức xám\n",
        ")\n",
        "\n",
        "val_ds = tf.keras.utils.image_dataset_from_directory(\n",
        "    val_fer2013_path, # Đường dẫn đến bộ val\n",
        "    seed=RANDOM_SEED, # Cài đặt random seed cho các phép transform (nếu có)\n",
        "    image_size=(IMG_HEIGHT, IMG_WIDTH), # Cài đặt kích thước ảnh\n",
        "    batch_size=BATCH_SIZE, # Cài đặt batch size\n",
        "    color_mode='grayscale' # Đọc ảnh theo định dạng ảnh mức xám\n",
        ")"
      ],
      "metadata": {
        "id": "HlOeZWQx540X"
      },
      "execution_count": null,
      "outputs": []
    },
    {
      "cell_type": "code",
      "source": [
        "data_augmentation = tf.keras.Sequential([\n",
        "    tf.keras.layers.experimental.preprocessing.RandomFlip('horizontal'),\n",
        "    tf.keras.layers.experimental.preprocessing.RandomRotation(0.2),\n",
        "    tf.keras.layers.experimental.preprocessing.Rescaling(1./127.5, offset = -1)\n",
        "])"
      ],
      "metadata": {
        "id": "AHT4KAZj543G"
      },
      "execution_count": null,
      "outputs": []
    },
    {
      "cell_type": "code",
      "source": [
        "base_model = tf.keras.applications.EfficientNetB5(input_shape = (197,197,3),\n",
        "                                                  include_top = False,\n",
        "                                                  weights = 'imagenet')"
      ],
      "metadata": {
        "id": "cRK0cRPj5453"
      },
      "execution_count": null,
      "outputs": []
    },
    {
      "cell_type": "code",
      "source": [
        "global_max = tf.keras.layers.GlobalMaxPool2D()\n",
        "\n",
        "prediction_layer = tf.keras.layers.Dense(7, activation = 'softmax' )\n",
        "\n",
        "inputs =tf.keras.Input(shape = (197,197,3))\n",
        "x = data_augmentation(inputs)\n",
        "x = base_model(x)\n",
        "x = global_max(x)\n",
        "\n",
        "x = tf.keras.layers.Dense(132, activation = 'relu')(x)\n",
        "x = tf.keras.layers.BatchNormalization()(x)\n",
        "x = tf.keras.layers.Dense(132, activation = 'relu')(x)\n",
        "x = tf.keras.layers.BatchNormalization()(x)\n",
        "x = tf.keras.layers.Dense(64, activation = 'relu')(x)\n",
        "x = tf.keras.layers.BatchNormalization()(x)\n",
        "x = tf.keras.layers.Dense(64, activation = 'relu')(x)\n",
        "x = tf.keras.layers.BatchNormalization()(x)\n",
        "x = tf.keras.layers.Dense(32, activation = 'relu')(x)\n",
        "x = tf.keras.layers.BatchNormalization()(x)\n",
        "x = tf.keras.layers.Dense(32, activation = 'relu')(x)\n",
        "x = tf.keras.layers.BatchNormalization()(x)\n",
        "x = tf.keras.layers.Dense(32, activation = 'relu')(x)\n",
        "x = tf.keras.layers.BatchNormalization()(x)\n",
        "x = tf.keras.layers.Dense(16, activation = 'relu')(x)\n",
        "x = tf.keras.layers.BatchNormalization()(x)\n",
        "x = tf.keras.layers.Dense(16, activation = 'relu')(x)\n",
        "x = tf.keras.layers.BatchNormalization()(x)\n",
        "x = tf.keras.layers.Dense(16, activation = 'relu')(x)\n",
        "\n",
        "outputs = prediction_layer(x)\n",
        "\n",
        "model = tf.keras.Model(inputs, outputs)\n"
      ],
      "metadata": {
        "id": "ESyM8EOv548V"
      },
      "execution_count": null,
      "outputs": []
    },
    {
      "cell_type": "code",
      "source": [
        "model.summary()"
      ],
      "metadata": {
        "id": "6DWBCZqm54--"
      },
      "execution_count": null,
      "outputs": []
    },
    {
      "cell_type": "code",
      "source": [
        "# Cấu hình các tham số tối ưu cho việc đọc dữ liệu\n",
        "AUTOTUNE = tf.data.AUTOTUNE\n",
        "\n",
        "train_ds = train_ds.cache().prefetch(buffer_size=AUTOTUNE)\n",
        "val_ds = val_ds.cache().prefetch(buffer_size=AUTOTUNE)"
      ],
      "metadata": {
        "id": "FsIiEGPc55Bk"
      },
      "execution_count": null,
      "outputs": []
    },
    {
      "cell_type": "markdown",
      "source": [],
      "metadata": {
        "id": "dSvFZ3rQbJte"
      }
    },
    {
      "cell_type": "code",
      "source": [
        "# Khai báo một số giá trị siêu tham số\n",
        "input_shape = (IMG_HEIGHT, IMG_WIDTH)\n",
        "EPOCHS = 60\n",
        "LR = 1e-4"
      ],
      "metadata": {
        "id": "n4rwqsmZ55EG"
      },
      "execution_count": null,
      "outputs": []
    },
    {
      "cell_type": "code",
      "source": [
        "# Cấu hình một số thông tin cho mô hình\n",
        "model.compile(\n",
        "    optimizer=tf.keras.optimizers.Adam(learning_rate=LR), # Sử dụng optimizer Adam\n",
        "    loss=tf.keras.losses.SparseCategoricalCrossentropy(), # Sử dụng hàm loss SparseCategorialCrossEntropy\n",
        "    metrics=['accuracy'] # Sử dụng thêm độ đô đánh giá Accuracy\n",
        ")"
      ],
      "metadata": {
        "id": "otUOnBbx55Gu"
      },
      "execution_count": null,
      "outputs": []
    },
    {
      "cell_type": "code",
      "source": [
        "# Thực hiện huấn luyện\n",
        "model.fit( \n",
        "    train_ds, # Huấn luyện với bộ train_ds\n",
        "    validation_data=val_ds, # Đánh giá trên bộ val_ds\n",
        "    epochs=EPOCHS # Huấn luyện với số lần lặp = EPOCHS\n",
        ")"
      ],
      "metadata": {
        "id": "Xb4bcj9D55Jm"
      },
      "execution_count": null,
      "outputs": []
    },
    {
      "cell_type": "code",
      "source": [
        "model.save_weights('test_fer2013.h5')"
      ],
      "metadata": {
        "id": "fbPWRj8UBM5c"
      },
      "execution_count": null,
      "outputs": []
    },
    {
      "cell_type": "code",
      "source": [
        "from google.colab import files\n",
        "files.download('test_fer2013.h5')"
      ],
      "metadata": {
        "id": "mJlnc1PiBctc"
      },
      "execution_count": null,
      "outputs": []
    },
    {
      "cell_type": "code",
      "source": [
        "plt.plot(history.history['loss'])\n",
        "plt.plot(history.history['val_loss'])\n",
        "plt.legend(['training', 'validation'])\n",
        "plt.title('Loss')\n",
        "plt.xlabel('epoch')\n"
      ],
      "metadata": {
        "id": "kG9vUlcpPe_M"
      },
      "execution_count": null,
      "outputs": []
    },
    {
      "cell_type": "code",
      "source": [
        "plt.plot(history.history['accuracy'])\n",
        "plt.plot(history.history['val_accuracy'])\n",
        "plt.legend(['training','validation'])\n",
        "plt.title('Accuracy')\n",
        "plt.xlabel('epoch')"
      ],
      "metadata": {
        "id": "GlgDYCrfPfXK"
      },
      "execution_count": null,
      "outputs": []
    },
    {
      "cell_type": "code",
      "source": [],
      "metadata": {
        "id": "NZo9zrmU8sq9"
      },
      "execution_count": null,
      "outputs": []
    },
    {
      "cell_type": "markdown",
      "source": [],
      "metadata": {
        "id": "_8iIInTh8tJl"
      }
    },
    {
      "cell_type": "markdown",
      "source": [],
      "metadata": {
        "id": "IZUJmiCD8tOA"
      }
    }
  ]
}