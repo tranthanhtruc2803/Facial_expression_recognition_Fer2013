{
  "nbformat": 4,
  "nbformat_minor": 0,
  "metadata": {
    "colab": {
      "provenance": [],
      "private_outputs": true,
      "include_colab_link": true
    },
    "kernelspec": {
      "name": "python3",
      "display_name": "Python 3"
    },
    "language_info": {
      "name": "python"
    },
    "gpuClass": "standard",
    "accelerator": "GPU"
  },
  "cells": [
    {
      "cell_type": "markdown",
      "metadata": {
        "id": "view-in-github",
        "colab_type": "text"
      },
      "source": [
        "<a href=\"https://colab.research.google.com/github/ucaokylong/facial_expression_with_fer2013_data/blob/main/fer_2013_EfficientNetB1.ipynb\" target=\"_parent\"><img src=\"https://colab.research.google.com/assets/colab-badge.svg\" alt=\"Open In Colab\"/></a>"
      ]
    },
    {
      "cell_type": "code",
      "execution_count": null,
      "metadata": {
        "id": "2yJt455w5xai"
      },
      "outputs": [],
      "source": [
        "from google.colab import drive\n",
        "\n",
        "drive.mount('/content/drive')\n",
        "!cp /path/to/dataset/on/your/drive"
      ]
    },
    {
      "cell_type": "code",
      "source": [
        "!unzip /content/drive/MyDrive/fer_2013.zip"
      ],
      "metadata": {
        "id": "ICtFND9S54ut"
      },
      "execution_count": null,
      "outputs": []
    },
    {
      "cell_type": "code",
      "source": [
        "import tensorflow as tf\n",
        "import matplotlib.pyplot as plt\n",
        "import os"
      ],
      "metadata": {
        "id": "Wpfnvv4U54xk"
      },
      "execution_count": null,
      "outputs": []
    },
    {
      "cell_type": "code",
      "source": [
        "fer2013_path = './fer_2013' # Đường dẫn đến folder dataset\n",
        "train_fer2013_path = os.path.join(fer2013_path, 'train') # Đường dẫn đến folder dataset train\n",
        "val_fer2013_path = os.path.join(fer2013_path, 'val') # Đường dẫn đến folder dataset val\n",
        "\n",
        "BATCH_SIZE = 32\n",
        "IMG_HEIGHT = 197\n",
        "IMG_WIDTH = 197\n",
        "RANDOM_SEED = 1\n",
        "\n",
        "train_ds = tf.keras.utils.image_dataset_from_directory(\n",
        "    train_fer2013_path, # Đường dẫn đến bộ train\n",
        "    seed=RANDOM_SEED, # Cài đặt random seed cho việc shuffle và các phép transform (nếu có)\n",
        "    image_size=(IMG_HEIGHT, IMG_WIDTH), # Cài đặt kích thước ảnh\n",
        "    shuffle=True, # Bật chế độ shuffle dataset\n",
        "    batch_size=BATCH_SIZE, # Cài đặt batch size\n",
        "    color_mode='grayscale' # Đọc ảnh theo định dạng ảnh mức xám\n",
        ")\n",
        "\n",
        "val_ds = tf.keras.utils.image_dataset_from_directory(\n",
        "    val_fer2013_path, # Đường dẫn đến bộ val\n",
        "    seed=RANDOM_SEED, # Cài đặt random seed cho các phép transform (nếu có)\n",
        "    image_size=(IMG_HEIGHT, IMG_WIDTH), # Cài đặt kích thước ảnh\n",
        "    batch_size=BATCH_SIZE, # Cài đặt batch size\n",
        "    color_mode='grayscale' # Đọc ảnh theo định dạng ảnh mức xám\n",
        ")"
      ],
      "metadata": {
        "id": "HlOeZWQx540X"
      },
      "execution_count": null,
      "outputs": []
    },
    {
      "cell_type": "code",
      "source": [
        "data_augmentation = tf.keras.Sequential([\n",
        "    tf.keras.layers.experimental.preprocessing.RandomFlip('horizontal'),\n",
        "    tf.keras.layers.experimental.preprocessing.RandomRotation(0.1),\n",
        "    tf.keras.layers.experimental.preprocessing.Rescaling(1./127.5, offset = -1)\n",
        "])"
      ],
      "metadata": {
        "id": "AHT4KAZj543G"
      },
      "execution_count": null,
      "outputs": []
    },
    {
      "cell_type": "code",
      "source": [
        "base_model = tf.keras.applications.EfficientNetB1(input_shape = (197,197,3),\n",
        "                                                  include_top = False,\n",
        "                                                  weights = 'imagenet')"
      ],
      "metadata": {
        "id": "cRK0cRPj5453"
      },
      "execution_count": null,
      "outputs": []
    },
    {
      "cell_type": "code",
      "source": [
        "print(len(base_model.layers))\n",
        "\n",
        "# Freeze some layers\n",
        "batch_norm_indices = [2, 4, 6, 9, 13, 14, 18, 21, 24, 26, 28, 31, 34, 38, 41, 43, 45, 46, 53, 56, 60, 63, 66, 70, 73,\n",
        "                      76, 80, 83, 85, 87, 88, 92, 95, 98, 102, 105, 108, 110, 112, 115, 118, 120, 122, 125, 128, 132,\n",
        "                      135, 138, 142, 145, 147, 149, 150, 152, 154, 157, 160, 164, 167, 170, 173, 176, 179, 180, 183,\n",
        "                      185, 187, 190, 194, 198, 202, 205, 208, 210, 212, 215, 218, 220, 222, 225, 228, 232, 235, 238,\n",
        "                      240, 242, 245, 249, 250, 254, 257, 260, 264, 267, 270, 273, 276, 280, 283, 287, 290, 294, 298,\n",
        "                      302, 305, 308, 312, 315, 318, 322, 325, 328, 332, 335, 338]\n"
      ],
      "metadata": {
        "id": "jBkpoCnQtELd"
      },
      "execution_count": null,
      "outputs": []
    },
    {
      "cell_type": "code",
      "source": [
        "for i in range(340):\n",
        "    if i not in batch_norm_indices:\n",
        "        base_model.layers[i].trainable = False\n",
        "\n",
        "print(len(base_model.layers))"
      ],
      "metadata": {
        "id": "_6uzqpLVtG_M"
      },
      "execution_count": null,
      "outputs": []
    },
    {
      "cell_type": "code",
      "source": [
        "global_max = tf.keras.layers.GlobalMaxPool2D()\n",
        "\n",
        "prediction_layer = tf.keras.layers.Dense(7, activation = 'softmax' )\n",
        "\n",
        "inputs =tf.keras.Input(shape = (197,197,3))\n",
        "x = data_augmentation(inputs)\n",
        "x = base_model(x)\n",
        "x = tf.keras.layers.BatchNormalization()(x)\n",
        "x = global_max(x)\n",
        "\n",
        "x = tf.keras.layers.Dense(132, activation = 'relu')(x)\n",
        "x = tf.keras.layers.Dense(132, activation = 'relu')(x)\n",
        "x = tf.keras.layers.BatchNormalization()(x)\n",
        "x = tf.keras.layers.Dropout(0.1)(x)\n",
        "x = tf.keras.layers.Dense(64, activation = 'relu')(x)\n",
        "x = tf.keras.layers.Dense(64, activation = 'relu')(x)\n",
        "x = tf.keras.layers.BatchNormalization()(x)\n",
        "x = tf.keras.layers.Dropout(0.1)(x)\n",
        "x = tf.keras.layers.Dense(32, activation = 'relu')(x)\n",
        "x = tf.keras.layers.Dense(32, activation = 'relu')(x)\n",
        "x = tf.keras.layers.Dense(32, activation = 'relu')(x)\n",
        "x = tf.keras.layers.BatchNormalization()(x)\n",
        "x = tf.keras.layers.Dropout(0.1)(x)\n",
        "x = tf.keras.layers.Dense(16, activation = 'relu')(x)\n",
        "x = tf.keras.layers.Dense(16, activation = 'relu')(x)\n",
        "x = tf.keras.layers.BatchNormalization()(x)\n",
        "x = tf.keras.layers.Dropout(0.1)(x)\n",
        "x = tf.keras.layers.Dense(16, activation = 'relu')(x)\n",
        "x = tf.keras.layers.Dropout(0.1)(x)\n",
        "x = tf.keras.layers.Dense(8, activation = 'relu')(x)\n",
        "\n",
        "\n",
        "outputs = prediction_layer(x)\n",
        "\n",
        "model = tf.keras.Model(inputs, outputs)\n"
      ],
      "metadata": {
        "id": "ESyM8EOv548V"
      },
      "execution_count": null,
      "outputs": []
    },
    {
      "cell_type": "code",
      "source": [
        "model.summary()"
      ],
      "metadata": {
        "id": "6DWBCZqm54--"
      },
      "execution_count": null,
      "outputs": []
    },
    {
      "cell_type": "code",
      "source": [
        "# Cấu hình các tham số tối ưu cho việc đọc dữ liệu\n",
        "AUTOTUNE = tf.data.AUTOTUNE\n",
        "\n",
        "train_ds = train_ds.cache().prefetch(buffer_size=AUTOTUNE)\n",
        "val_ds = val_ds.cache().prefetch(buffer_size=AUTOTUNE)"
      ],
      "metadata": {
        "id": "FsIiEGPc55Bk"
      },
      "execution_count": null,
      "outputs": []
    },
    {
      "cell_type": "markdown",
      "source": [],
      "metadata": {
        "id": "dSvFZ3rQbJte"
      }
    },
    {
      "cell_type": "code",
      "source": [
        "# Khai báo một số giá trị siêu tham số\n",
        "input_shape = (IMG_HEIGHT, IMG_WIDTH)\n",
        "EPOCHS = 30\n",
        "LR = 1e-4"
      ],
      "metadata": {
        "id": "n4rwqsmZ55EG"
      },
      "execution_count": null,
      "outputs": []
    },
    {
      "cell_type": "code",
      "source": [
        "from keras import regularizers\n",
        "from keras.callbacks import ModelCheckpoint, CSVLogger, TensorBoard, EarlyStopping, ReduceLROnPlateau\n",
        "\n",
        "from sklearn.metrics import confusion_matrix\n",
        "from sklearn.model_selection import train_test_split"
      ],
      "metadata": {
        "id": "V-k9bGxPnH33"
      },
      "execution_count": null,
      "outputs": []
    },
    {
      "cell_type": "code",
      "source": [
        "# Cấu hình một số thông tin cho mô hình\n",
        "\n",
        "lrd = ReduceLROnPlateau(monitor = 'val_accuracy',patience = 3,verbose = 1,factor = 0.5, min_lr = 0.00001)\n",
        "model.compile(\n",
        "    optimizer=tf.keras.optimizers.Adam(learning_rate=LR), # Sử dụng optimizer Adam\n",
        "    loss=tf.keras.losses.SparseCategoricalCrossentropy(from_logits = True), # Sử dụng hàm loss SparseCategorialCrossEntropy\n",
        "    metrics=['accuracy'] # Sử dụng thêm độ đô đánh giá Accuracy\n",
        ")"
      ],
      "metadata": {
        "id": "otUOnBbx55Gu"
      },
      "execution_count": null,
      "outputs": []
    },
    {
      "cell_type": "code",
      "source": [
        "# Thực hiện huấn luyện\n",
        "history = model.fit( \n",
        "    train_ds, # Huấn luyện với bộ train_ds\n",
        "    validation_data=val_ds, # Đánh giá trên bộ val_ds\n",
        "    epochs=EPOCHS, # Huấn luyện với số lần lặp = EPOCHS\n",
        "    callbacks = [lrd]\n",
        ")"
      ],
      "metadata": {
        "id": "Xb4bcj9D55Jm"
      },
      "execution_count": null,
      "outputs": []
    },
    {
      "cell_type": "code",
      "source": [
        "model.save_weights('test2_fer2013_EffB1.h5')"
      ],
      "metadata": {
        "id": "fbPWRj8UBM5c"
      },
      "execution_count": null,
      "outputs": []
    },
    {
      "cell_type": "code",
      "source": [
        "from google.colab import files\n",
        "files.download('test_fer2013_EffB1.h5')"
      ],
      "metadata": {
        "id": "mJlnc1PiBctc"
      },
      "execution_count": null,
      "outputs": []
    },
    {
      "cell_type": "code",
      "source": [
        "plt.plot(history.history['loss'])\n",
        "plt.plot(history.history['val_loss'])\n",
        "plt.legend(['training', 'validation'])\n",
        "plt.title('Loss')\n",
        "plt.xlabel('epoch')\n"
      ],
      "metadata": {
        "id": "kG9vUlcpPe_M"
      },
      "execution_count": null,
      "outputs": []
    },
    {
      "cell_type": "code",
      "source": [
        "plt.plot(history.history['accuracy'])\n",
        "plt.plot(history.history['val_accuracy'])\n",
        "plt.legend(['training','validation'])\n",
        "plt.title('Accuracy')\n",
        "plt.xlabel('epoch')"
      ],
      "metadata": {
        "id": "GlgDYCrfPfXK"
      },
      "execution_count": null,
      "outputs": []
    },
    {
      "cell_type": "code",
      "source": [],
      "metadata": {
        "id": "NZo9zrmU8sq9"
      },
      "execution_count": null,
      "outputs": []
    },
    {
      "cell_type": "markdown",
      "source": [],
      "metadata": {
        "id": "_8iIInTh8tJl"
      }
    },
    {
      "cell_type": "markdown",
      "source": [],
      "metadata": {
        "id": "IZUJmiCD8tOA"
      }
    }
  ]
}